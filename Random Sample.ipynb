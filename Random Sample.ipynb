{
 "cells": [
  {
   "cell_type": "code",
   "execution_count": 1,
   "id": "e0d555ce",
   "metadata": {},
   "outputs": [],
   "source": [
    "import numpy as np"
   ]
  },
  {
   "cell_type": "code",
   "execution_count": 2,
   "id": "51f9e366",
   "metadata": {},
   "outputs": [],
   "source": [
    "word = {\n",
    "'hira': '\\\n",
    "あいうえお\\\n",
    "かきくけこ\\\n",
    "さしすせそ\\\n",
    "たちつてと\\\n",
    "なにぬねの\\\n",
    "はひふへほ\\\n",
    "まみむめも\\\n",
    "やいゆえよ\\\n",
    "らりるれろ\\\n",
    "わいうえを\\\n",
    "ん',\n",
    "    \n",
    "'kata': '\\\n",
    "アイウエオ\\\n",
    "カキクケコ\\\n",
    "サシスセソ\\\n",
    "タチツテト\\\n",
    "ナニヌネノ\\\n",
    "ハヒフヘホ\\\n",
    "マミムメモ\\\n",
    "ヤイユエヨ\\\n",
    "ラリルレロ\\\n",
    "ワイウエヲ\\\n",
    "ン',\n",
    "    \n",
    "    'roman': [\n",
    "        'a', 'i', 'u', 'e', 'o',\n",
    "        'ka', 'ki', 'ku', 'ke', 'ko',\n",
    "        'sa', 'shi', 'su', 'se', 'so',\n",
    "        'ta', 'chi', 'tsu', 'te', 'to',\n",
    "        'na', 'ni', 'nu', 'ne', 'no',\n",
    "        'ha', 'hi', 'fu', 'he', 'ho',\n",
    "        'ma', 'mi', 'mu', 'me', 'mo',\n",
    "        'ya', 'i', 'yu', 'e', 'yo',\n",
    "        'ra', 'ri', 'ru', 're', 'ro',\n",
    "        'wa', 'i', 'u', 'e', 'o',\n",
    "        'n'\n",
    "    ]\n",
    "}\n",
    "\n",
    "col = 'aiueo'\n",
    "\n",
    "row = '*kstnhmyrw'\n",
    "\n",
    "def gen_seq(start, end):\n",
    "    seq = np.arange(start, end)\n",
    "    np.random.shuffle(seq)\n",
    "    return seq\n",
    "\n",
    "def gen_word(seq, lg):\n",
    "    count = 0\n",
    "    for i in seq:\n",
    "        r = i // len(col)\n",
    "        c = i % len(col)\n",
    "        if r in [7, 9] and word['roman'][i] in 'iue':\n",
    "            continue\n",
    "        color = '91' if count % 2 else '90'\n",
    "        count += 1\n",
    "        print(f'\\033[{color}m{word[lg][i]}', end=' ')"
   ]
  },
  {
   "cell_type": "markdown",
   "id": "942aa1f5",
   "metadata": {},
   "source": [
    "# 1. Read roman write hiragana"
   ]
  },
  {
   "cell_type": "code",
   "execution_count": 3,
   "id": "276efebc",
   "metadata": {},
   "outputs": [
    {
     "name": "stdout",
     "output_type": "stream",
     "text": [
      "Question:\n",
      "\u001b[90myo \u001b[91mte \u001b[90mku \u001b[91mki \u001b[90mchi \u001b[91mo \u001b[90mmu \u001b[91mre \u001b[90me \u001b[91mke \u001b[90mfu \u001b[91mto \u001b[90mri \u001b[91mru \u001b[90mmo \u001b[91mko \u001b[90mme \u001b[91ma \u001b[90mka \u001b[91mni \u001b[90mne \u001b[91mu \u001b[90msa \u001b[91myu \u001b[90mtsu \u001b[91mso \u001b[90mno \u001b[91mro \u001b[90mna \u001b[91mhi \u001b[90mshi \u001b[91mha \u001b[90mta \u001b[91mse \u001b[90mhe \u001b[91mra \u001b[90mya \u001b[91msu \u001b[90mho \u001b[91mwa \u001b[90mmi \u001b[91mnu \u001b[90mi \u001b[91mma \u001b[90mo \u001b[91mn "
     ]
    }
   ],
   "source": [
    "seq = gen_seq(0, 51)\n",
    "print('Question:')\n",
    "gen_word(seq, 'roman')"
   ]
  },
  {
   "cell_type": "code",
   "execution_count": 4,
   "id": "a40e8d1c",
   "metadata": {},
   "outputs": [
    {
     "name": "stdout",
     "output_type": "stream",
     "text": [
      "Solution:\n",
      "\u001b[90mよ \u001b[91mて \u001b[90mく \u001b[91mき \u001b[90mち \u001b[91mお \u001b[90mむ \u001b[91mれ \u001b[90mえ \u001b[91mけ \u001b[90mふ \u001b[91mと \u001b[90mり \u001b[91mる \u001b[90mも \u001b[91mこ \u001b[90mめ \u001b[91mあ \u001b[90mか \u001b[91mに \u001b[90mね \u001b[91mう \u001b[90mさ \u001b[91mゆ \u001b[90mつ \u001b[91mそ \u001b[90mの \u001b[91mろ \u001b[90mな \u001b[91mひ \u001b[90mし \u001b[91mは \u001b[90mた \u001b[91mせ \u001b[90mへ \u001b[91mら \u001b[90mや \u001b[91mす \u001b[90mほ \u001b[91mわ \u001b[90mみ \u001b[91mぬ \u001b[90mい \u001b[91mま \u001b[90mを \u001b[91mん "
     ]
    }
   ],
   "source": [
    "print('Solution:')\n",
    "gen_word(seq, 'hira')"
   ]
  },
  {
   "cell_type": "markdown",
   "id": "3d805834",
   "metadata": {},
   "source": [
    "# 2. Read hiragana write roman"
   ]
  },
  {
   "cell_type": "code",
   "execution_count": 5,
   "id": "6cb73283",
   "metadata": {},
   "outputs": [
    {
     "name": "stdout",
     "output_type": "stream",
     "text": [
      "Question:\n",
      "\u001b[90mま \u001b[91mろ \u001b[90mく \u001b[91mけ \u001b[90mわ \u001b[91mい \u001b[90mら \u001b[91mた \u001b[90mめ \u001b[91mに \u001b[90mし \u001b[91mそ \u001b[90mを \u001b[91mや \u001b[90mむ \u001b[91mあ \u001b[90mか \u001b[91mな \u001b[90mほ \u001b[91mち \u001b[90mり \u001b[91mは \u001b[90mて \u001b[91mも \u001b[90mる \u001b[91mす \u001b[90mね \u001b[91mこ \u001b[90mつ \u001b[91mお \u001b[90mさ \u001b[91mひ \u001b[90mう \u001b[91mゆ \u001b[90mん \u001b[91mれ \u001b[90mふ \u001b[91mせ \u001b[90mぬ \u001b[91mへ \u001b[90mの \u001b[91mと \u001b[90mみ \u001b[91mよ \u001b[90mえ \u001b[91mき "
     ]
    }
   ],
   "source": [
    "seq = gen_seq(0, 51)\n",
    "print('Question:')\n",
    "gen_word(seq, 'hira')"
   ]
  },
  {
   "cell_type": "code",
   "execution_count": 6,
   "id": "3e7a0685",
   "metadata": {},
   "outputs": [
    {
     "name": "stdout",
     "output_type": "stream",
     "text": [
      "Solution:\n",
      "\u001b[90mma \u001b[91mro \u001b[90mku \u001b[91mke \u001b[90mwa \u001b[91mi \u001b[90mra \u001b[91mta \u001b[90mme \u001b[91mni \u001b[90mshi \u001b[91mso \u001b[90mo \u001b[91mya \u001b[90mmu \u001b[91ma \u001b[90mka \u001b[91mna \u001b[90mho \u001b[91mchi \u001b[90mri \u001b[91mha \u001b[90mte \u001b[91mmo \u001b[90mru \u001b[91msu \u001b[90mne \u001b[91mko \u001b[90mtsu \u001b[91mo \u001b[90msa \u001b[91mhi \u001b[90mu \u001b[91myu \u001b[90mn \u001b[91mre \u001b[90mfu \u001b[91mse \u001b[90mnu \u001b[91mhe \u001b[90mno \u001b[91mto \u001b[90mmi \u001b[91myo \u001b[90me \u001b[91mki "
     ]
    }
   ],
   "source": [
    "print('Solution:')\n",
    "gen_word(seq, 'roman')"
   ]
  },
  {
   "cell_type": "markdown",
   "id": "f65dcad4",
   "metadata": {},
   "source": [
    "# 3. Read roman write katakana"
   ]
  },
  {
   "cell_type": "code",
   "execution_count": 16,
   "id": "03d2b03d",
   "metadata": {},
   "outputs": [
    {
     "name": "stdout",
     "output_type": "stream",
     "text": [
      "Question:\n",
      "\u001b[90mko \u001b[91mka \u001b[90mku \u001b[91mke \u001b[90mki "
     ]
    }
   ],
   "source": [
    "seq = gen_seq(5, 10)\n",
    "print('Question:')\n",
    "gen_word(seq, 'roman')"
   ]
  },
  {
   "cell_type": "code",
   "execution_count": 15,
   "id": "c3382742",
   "metadata": {},
   "outputs": [
    {
     "name": "stdout",
     "output_type": "stream",
     "text": [
      "Solution:\n",
      "\u001b[90mキ \u001b[91mケ \u001b[90mカ \u001b[91mク \u001b[90mコ "
     ]
    }
   ],
   "source": [
    "print('Solution:')\n",
    "gen_word(seq, 'kata')"
   ]
  },
  {
   "cell_type": "markdown",
   "id": "11960d1e",
   "metadata": {},
   "source": [
    "# 4. Read katakana write roman"
   ]
  },
  {
   "cell_type": "code",
   "execution_count": 9,
   "id": "69770120",
   "metadata": {},
   "outputs": [
    {
     "name": "stdout",
     "output_type": "stream",
     "text": [
      "Question:\n",
      "\u001b[90mオ \u001b[91mイ \u001b[90mア \u001b[91mウ \u001b[90mエ "
     ]
    }
   ],
   "source": [
    "seq = gen_seq(0, 5)\n",
    "print('Question:')\n",
    "gen_word(seq, 'kata')"
   ]
  },
  {
   "cell_type": "code",
   "execution_count": 10,
   "id": "ea7e3a00",
   "metadata": {},
   "outputs": [
    {
     "name": "stdout",
     "output_type": "stream",
     "text": [
      "Solution:\n",
      "\u001b[90mo \u001b[91mi \u001b[90ma \u001b[91mu \u001b[90me "
     ]
    }
   ],
   "source": [
    "print('Solution:')\n",
    "gen_word(seq, 'roman')"
   ]
  },
  {
   "cell_type": "code",
   "execution_count": null,
   "id": "8dc44759",
   "metadata": {},
   "outputs": [],
   "source": []
  }
 ],
 "metadata": {
  "kernelspec": {
   "display_name": "Python 3 (ipykernel)",
   "language": "python",
   "name": "python3"
  },
  "language_info": {
   "codemirror_mode": {
    "name": "ipython",
    "version": 3
   },
   "file_extension": ".py",
   "mimetype": "text/x-python",
   "name": "python",
   "nbconvert_exporter": "python",
   "pygments_lexer": "ipython3",
   "version": "3.7.4"
  }
 },
 "nbformat": 4,
 "nbformat_minor": 5
}
